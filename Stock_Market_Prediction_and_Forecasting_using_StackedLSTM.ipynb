{
  "cells": [
    {
      "cell_type": "markdown",
      "metadata": {
        "id": "view-in-github",
        "colab_type": "text"
      },
      "source": [
        "<a href=\"https://colab.research.google.com/github/Samuel-Njoroge/Stock_Market_Prediction_using_StackedLSTM/blob/main/Stock_Market_Prediction_and_Forecasting_using_StackedLSTM.ipynb\" target=\"_parent\"><img src=\"https://colab.research.google.com/assets/colab-badge.svg\" alt=\"Open In Colab\"/></a>"
      ]
    },
    {
      "cell_type": "markdown",
      "metadata": {
        "id": "mvXu4LRxRmOi"
      },
      "source": [
        "# Stock Market Prediction and Forecasting using Stacked LSTM.\n",
        "IMPORTING LIBRARIES."
      ]
    },
    {
      "cell_type": "code",
      "execution_count": 1,
      "metadata": {
        "id": "AMZc-IZPROAO"
      },
      "outputs": [],
      "source": [
        "#Importing libraries.\n",
        "import pandas as pd\n",
        "import numpy as np\n",
        "import matplotlib.pyplot as plt\n",
        "import tensorflow as tf\n",
        "import math\n"
      ]
    },
    {
      "cell_type": "markdown",
      "metadata": {
        "id": "d2t77MFuFF0c"
      },
      "source": [
        "**LOADING THE DATASET.**"
      ]
    },
    {
      "cell_type": "code",
      "execution_count": 2,
      "metadata": {
        "colab": {
          "base_uri": "https://localhost:8080/",
          "height": 206
        },
        "id": "AkmsY5KsRkwP",
        "outputId": "82dd2d5e-1a17-47c8-a7ef-3cd59633abaf"
      },
      "outputs": [
        {
          "output_type": "execute_result",
          "data": {
            "text/plain": [
              "         Date    Open    High     Low    Last   Close  Total Trade Quantity  \\\n",
              "0  2018-09-28  234.05  235.95  230.20  233.50  233.75               3069914   \n",
              "1  2018-09-27  234.55  236.80  231.10  233.80  233.25               5082859   \n",
              "2  2018-09-26  240.00  240.00  232.50  235.00  234.25               2240909   \n",
              "3  2018-09-25  233.30  236.75  232.00  236.25  236.10               2349368   \n",
              "4  2018-09-24  233.55  239.20  230.75  234.00  233.30               3423509   \n",
              "\n",
              "   Turnover (Lacs)  \n",
              "0          7162.35  \n",
              "1         11859.95  \n",
              "2          5248.60  \n",
              "3          5503.90  \n",
              "4          7999.55  "
            ],
            "text/html": [
              "\n",
              "  <div id=\"df-4163edbf-7290-462c-b103-9a3d7ec65e25\">\n",
              "    <div class=\"colab-df-container\">\n",
              "      <div>\n",
              "<style scoped>\n",
              "    .dataframe tbody tr th:only-of-type {\n",
              "        vertical-align: middle;\n",
              "    }\n",
              "\n",
              "    .dataframe tbody tr th {\n",
              "        vertical-align: top;\n",
              "    }\n",
              "\n",
              "    .dataframe thead th {\n",
              "        text-align: right;\n",
              "    }\n",
              "</style>\n",
              "<table border=\"1\" class=\"dataframe\">\n",
              "  <thead>\n",
              "    <tr style=\"text-align: right;\">\n",
              "      <th></th>\n",
              "      <th>Date</th>\n",
              "      <th>Open</th>\n",
              "      <th>High</th>\n",
              "      <th>Low</th>\n",
              "      <th>Last</th>\n",
              "      <th>Close</th>\n",
              "      <th>Total Trade Quantity</th>\n",
              "      <th>Turnover (Lacs)</th>\n",
              "    </tr>\n",
              "  </thead>\n",
              "  <tbody>\n",
              "    <tr>\n",
              "      <th>0</th>\n",
              "      <td>2018-09-28</td>\n",
              "      <td>234.05</td>\n",
              "      <td>235.95</td>\n",
              "      <td>230.20</td>\n",
              "      <td>233.50</td>\n",
              "      <td>233.75</td>\n",
              "      <td>3069914</td>\n",
              "      <td>7162.35</td>\n",
              "    </tr>\n",
              "    <tr>\n",
              "      <th>1</th>\n",
              "      <td>2018-09-27</td>\n",
              "      <td>234.55</td>\n",
              "      <td>236.80</td>\n",
              "      <td>231.10</td>\n",
              "      <td>233.80</td>\n",
              "      <td>233.25</td>\n",
              "      <td>5082859</td>\n",
              "      <td>11859.95</td>\n",
              "    </tr>\n",
              "    <tr>\n",
              "      <th>2</th>\n",
              "      <td>2018-09-26</td>\n",
              "      <td>240.00</td>\n",
              "      <td>240.00</td>\n",
              "      <td>232.50</td>\n",
              "      <td>235.00</td>\n",
              "      <td>234.25</td>\n",
              "      <td>2240909</td>\n",
              "      <td>5248.60</td>\n",
              "    </tr>\n",
              "    <tr>\n",
              "      <th>3</th>\n",
              "      <td>2018-09-25</td>\n",
              "      <td>233.30</td>\n",
              "      <td>236.75</td>\n",
              "      <td>232.00</td>\n",
              "      <td>236.25</td>\n",
              "      <td>236.10</td>\n",
              "      <td>2349368</td>\n",
              "      <td>5503.90</td>\n",
              "    </tr>\n",
              "    <tr>\n",
              "      <th>4</th>\n",
              "      <td>2018-09-24</td>\n",
              "      <td>233.55</td>\n",
              "      <td>239.20</td>\n",
              "      <td>230.75</td>\n",
              "      <td>234.00</td>\n",
              "      <td>233.30</td>\n",
              "      <td>3423509</td>\n",
              "      <td>7999.55</td>\n",
              "    </tr>\n",
              "  </tbody>\n",
              "</table>\n",
              "</div>\n",
              "      <button class=\"colab-df-convert\" onclick=\"convertToInteractive('df-4163edbf-7290-462c-b103-9a3d7ec65e25')\"\n",
              "              title=\"Convert this dataframe to an interactive table.\"\n",
              "              style=\"display:none;\">\n",
              "        \n",
              "  <svg xmlns=\"http://www.w3.org/2000/svg\" height=\"24px\"viewBox=\"0 0 24 24\"\n",
              "       width=\"24px\">\n",
              "    <path d=\"M0 0h24v24H0V0z\" fill=\"none\"/>\n",
              "    <path d=\"M18.56 5.44l.94 2.06.94-2.06 2.06-.94-2.06-.94-.94-2.06-.94 2.06-2.06.94zm-11 1L8.5 8.5l.94-2.06 2.06-.94-2.06-.94L8.5 2.5l-.94 2.06-2.06.94zm10 10l.94 2.06.94-2.06 2.06-.94-2.06-.94-.94-2.06-.94 2.06-2.06.94z\"/><path d=\"M17.41 7.96l-1.37-1.37c-.4-.4-.92-.59-1.43-.59-.52 0-1.04.2-1.43.59L10.3 9.45l-7.72 7.72c-.78.78-.78 2.05 0 2.83L4 21.41c.39.39.9.59 1.41.59.51 0 1.02-.2 1.41-.59l7.78-7.78 2.81-2.81c.8-.78.8-2.07 0-2.86zM5.41 20L4 18.59l7.72-7.72 1.47 1.35L5.41 20z\"/>\n",
              "  </svg>\n",
              "      </button>\n",
              "      \n",
              "  <style>\n",
              "    .colab-df-container {\n",
              "      display:flex;\n",
              "      flex-wrap:wrap;\n",
              "      gap: 12px;\n",
              "    }\n",
              "\n",
              "    .colab-df-convert {\n",
              "      background-color: #E8F0FE;\n",
              "      border: none;\n",
              "      border-radius: 50%;\n",
              "      cursor: pointer;\n",
              "      display: none;\n",
              "      fill: #1967D2;\n",
              "      height: 32px;\n",
              "      padding: 0 0 0 0;\n",
              "      width: 32px;\n",
              "    }\n",
              "\n",
              "    .colab-df-convert:hover {\n",
              "      background-color: #E2EBFA;\n",
              "      box-shadow: 0px 1px 2px rgba(60, 64, 67, 0.3), 0px 1px 3px 1px rgba(60, 64, 67, 0.15);\n",
              "      fill: #174EA6;\n",
              "    }\n",
              "\n",
              "    [theme=dark] .colab-df-convert {\n",
              "      background-color: #3B4455;\n",
              "      fill: #D2E3FC;\n",
              "    }\n",
              "\n",
              "    [theme=dark] .colab-df-convert:hover {\n",
              "      background-color: #434B5C;\n",
              "      box-shadow: 0px 1px 3px 1px rgba(0, 0, 0, 0.15);\n",
              "      filter: drop-shadow(0px 1px 2px rgba(0, 0, 0, 0.3));\n",
              "      fill: #FFFFFF;\n",
              "    }\n",
              "  </style>\n",
              "\n",
              "      <script>\n",
              "        const buttonEl =\n",
              "          document.querySelector('#df-4163edbf-7290-462c-b103-9a3d7ec65e25 button.colab-df-convert');\n",
              "        buttonEl.style.display =\n",
              "          google.colab.kernel.accessAllowed ? 'block' : 'none';\n",
              "\n",
              "        async function convertToInteractive(key) {\n",
              "          const element = document.querySelector('#df-4163edbf-7290-462c-b103-9a3d7ec65e25');\n",
              "          const dataTable =\n",
              "            await google.colab.kernel.invokeFunction('convertToInteractive',\n",
              "                                                     [key], {});\n",
              "          if (!dataTable) return;\n",
              "\n",
              "          const docLinkHtml = 'Like what you see? Visit the ' +\n",
              "            '<a target=\"_blank\" href=https://colab.research.google.com/notebooks/data_table.ipynb>data table notebook</a>'\n",
              "            + ' to learn more about interactive tables.';\n",
              "          element.innerHTML = '';\n",
              "          dataTable['output_type'] = 'display_data';\n",
              "          await google.colab.output.renderOutput(dataTable, element);\n",
              "          const docLink = document.createElement('div');\n",
              "          docLink.innerHTML = docLinkHtml;\n",
              "          element.appendChild(docLink);\n",
              "        }\n",
              "      </script>\n",
              "    </div>\n",
              "  </div>\n",
              "  "
            ]
          },
          "metadata": {},
          "execution_count": 2
        }
      ],
      "source": [
        "#Loading the dataset.\n",
        "data = pd.read_csv('https://raw.githubusercontent.com/mwitiderrick/stockprice/master/NSE-TATAGLOBAL.csv')\n",
        "data.head()"
      ]
    },
    {
      "cell_type": "code",
      "execution_count": 3,
      "metadata": {
        "colab": {
          "base_uri": "https://localhost:8080/"
        },
        "id": "-X2Sf1v8SMiB",
        "outputId": "4d9d0d9c-de3a-4fc4-c775-c28dfd00c238"
      },
      "outputs": [
        {
          "output_type": "stream",
          "name": "stdout",
          "text": [
            "<class 'pandas.core.frame.DataFrame'>\n",
            "RangeIndex: 2035 entries, 0 to 2034\n",
            "Data columns (total 8 columns):\n",
            " #   Column                Non-Null Count  Dtype  \n",
            "---  ------                --------------  -----  \n",
            " 0   Date                  2035 non-null   object \n",
            " 1   Open                  2035 non-null   float64\n",
            " 2   High                  2035 non-null   float64\n",
            " 3   Low                   2035 non-null   float64\n",
            " 4   Last                  2035 non-null   float64\n",
            " 5   Close                 2035 non-null   float64\n",
            " 6   Total Trade Quantity  2035 non-null   int64  \n",
            " 7   Turnover (Lacs)       2035 non-null   float64\n",
            "dtypes: float64(6), int64(1), object(1)\n",
            "memory usage: 127.3+ KB\n"
          ]
        }
      ],
      "source": [
        "#A summary of the columns in the dataset.\n",
        "data.info()"
      ]
    },
    {
      "cell_type": "code",
      "execution_count": 4,
      "metadata": {
        "colab": {
          "base_uri": "https://localhost:8080/",
          "height": 300
        },
        "id": "_mfS4lJqSNBI",
        "outputId": "9b52d349-45ca-41e4-ad92-660c9ae98260"
      },
      "outputs": [
        {
          "output_type": "execute_result",
          "data": {
            "text/plain": [
              "              Open         High          Low         Last       Close  \\\n",
              "count  2035.000000  2035.000000  2035.000000  2035.000000  2035.00000   \n",
              "mean    149.713735   151.992826   147.293931   149.474251   149.45027   \n",
              "std      48.664509    49.413109    47.931958    48.732570    48.71204   \n",
              "min      81.100000    82.800000    80.000000    81.000000    80.95000   \n",
              "25%     120.025000   122.100000   118.300000   120.075000   120.05000   \n",
              "50%     141.500000   143.400000   139.600000   141.100000   141.25000   \n",
              "75%     157.175000   159.400000   155.150000   156.925000   156.90000   \n",
              "max     327.700000   328.750000   321.650000   325.950000   325.75000   \n",
              "\n",
              "       Total Trade Quantity  Turnover (Lacs)  \n",
              "count          2.035000e+03      2035.000000  \n",
              "mean           2.335681e+06      3899.980565  \n",
              "std            2.091778e+06      4570.767877  \n",
              "min            3.961000e+04        37.040000  \n",
              "25%            1.146444e+06      1427.460000  \n",
              "50%            1.783456e+06      2512.030000  \n",
              "75%            2.813594e+06      4539.015000  \n",
              "max            2.919102e+07     55755.080000  "
            ],
            "text/html": [
              "\n",
              "  <div id=\"df-46ee0a44-956c-4e4b-bcdd-b5bcc88a0079\">\n",
              "    <div class=\"colab-df-container\">\n",
              "      <div>\n",
              "<style scoped>\n",
              "    .dataframe tbody tr th:only-of-type {\n",
              "        vertical-align: middle;\n",
              "    }\n",
              "\n",
              "    .dataframe tbody tr th {\n",
              "        vertical-align: top;\n",
              "    }\n",
              "\n",
              "    .dataframe thead th {\n",
              "        text-align: right;\n",
              "    }\n",
              "</style>\n",
              "<table border=\"1\" class=\"dataframe\">\n",
              "  <thead>\n",
              "    <tr style=\"text-align: right;\">\n",
              "      <th></th>\n",
              "      <th>Open</th>\n",
              "      <th>High</th>\n",
              "      <th>Low</th>\n",
              "      <th>Last</th>\n",
              "      <th>Close</th>\n",
              "      <th>Total Trade Quantity</th>\n",
              "      <th>Turnover (Lacs)</th>\n",
              "    </tr>\n",
              "  </thead>\n",
              "  <tbody>\n",
              "    <tr>\n",
              "      <th>count</th>\n",
              "      <td>2035.000000</td>\n",
              "      <td>2035.000000</td>\n",
              "      <td>2035.000000</td>\n",
              "      <td>2035.000000</td>\n",
              "      <td>2035.00000</td>\n",
              "      <td>2.035000e+03</td>\n",
              "      <td>2035.000000</td>\n",
              "    </tr>\n",
              "    <tr>\n",
              "      <th>mean</th>\n",
              "      <td>149.713735</td>\n",
              "      <td>151.992826</td>\n",
              "      <td>147.293931</td>\n",
              "      <td>149.474251</td>\n",
              "      <td>149.45027</td>\n",
              "      <td>2.335681e+06</td>\n",
              "      <td>3899.980565</td>\n",
              "    </tr>\n",
              "    <tr>\n",
              "      <th>std</th>\n",
              "      <td>48.664509</td>\n",
              "      <td>49.413109</td>\n",
              "      <td>47.931958</td>\n",
              "      <td>48.732570</td>\n",
              "      <td>48.71204</td>\n",
              "      <td>2.091778e+06</td>\n",
              "      <td>4570.767877</td>\n",
              "    </tr>\n",
              "    <tr>\n",
              "      <th>min</th>\n",
              "      <td>81.100000</td>\n",
              "      <td>82.800000</td>\n",
              "      <td>80.000000</td>\n",
              "      <td>81.000000</td>\n",
              "      <td>80.95000</td>\n",
              "      <td>3.961000e+04</td>\n",
              "      <td>37.040000</td>\n",
              "    </tr>\n",
              "    <tr>\n",
              "      <th>25%</th>\n",
              "      <td>120.025000</td>\n",
              "      <td>122.100000</td>\n",
              "      <td>118.300000</td>\n",
              "      <td>120.075000</td>\n",
              "      <td>120.05000</td>\n",
              "      <td>1.146444e+06</td>\n",
              "      <td>1427.460000</td>\n",
              "    </tr>\n",
              "    <tr>\n",
              "      <th>50%</th>\n",
              "      <td>141.500000</td>\n",
              "      <td>143.400000</td>\n",
              "      <td>139.600000</td>\n",
              "      <td>141.100000</td>\n",
              "      <td>141.25000</td>\n",
              "      <td>1.783456e+06</td>\n",
              "      <td>2512.030000</td>\n",
              "    </tr>\n",
              "    <tr>\n",
              "      <th>75%</th>\n",
              "      <td>157.175000</td>\n",
              "      <td>159.400000</td>\n",
              "      <td>155.150000</td>\n",
              "      <td>156.925000</td>\n",
              "      <td>156.90000</td>\n",
              "      <td>2.813594e+06</td>\n",
              "      <td>4539.015000</td>\n",
              "    </tr>\n",
              "    <tr>\n",
              "      <th>max</th>\n",
              "      <td>327.700000</td>\n",
              "      <td>328.750000</td>\n",
              "      <td>321.650000</td>\n",
              "      <td>325.950000</td>\n",
              "      <td>325.75000</td>\n",
              "      <td>2.919102e+07</td>\n",
              "      <td>55755.080000</td>\n",
              "    </tr>\n",
              "  </tbody>\n",
              "</table>\n",
              "</div>\n",
              "      <button class=\"colab-df-convert\" onclick=\"convertToInteractive('df-46ee0a44-956c-4e4b-bcdd-b5bcc88a0079')\"\n",
              "              title=\"Convert this dataframe to an interactive table.\"\n",
              "              style=\"display:none;\">\n",
              "        \n",
              "  <svg xmlns=\"http://www.w3.org/2000/svg\" height=\"24px\"viewBox=\"0 0 24 24\"\n",
              "       width=\"24px\">\n",
              "    <path d=\"M0 0h24v24H0V0z\" fill=\"none\"/>\n",
              "    <path d=\"M18.56 5.44l.94 2.06.94-2.06 2.06-.94-2.06-.94-.94-2.06-.94 2.06-2.06.94zm-11 1L8.5 8.5l.94-2.06 2.06-.94-2.06-.94L8.5 2.5l-.94 2.06-2.06.94zm10 10l.94 2.06.94-2.06 2.06-.94-2.06-.94-.94-2.06-.94 2.06-2.06.94z\"/><path d=\"M17.41 7.96l-1.37-1.37c-.4-.4-.92-.59-1.43-.59-.52 0-1.04.2-1.43.59L10.3 9.45l-7.72 7.72c-.78.78-.78 2.05 0 2.83L4 21.41c.39.39.9.59 1.41.59.51 0 1.02-.2 1.41-.59l7.78-7.78 2.81-2.81c.8-.78.8-2.07 0-2.86zM5.41 20L4 18.59l7.72-7.72 1.47 1.35L5.41 20z\"/>\n",
              "  </svg>\n",
              "      </button>\n",
              "      \n",
              "  <style>\n",
              "    .colab-df-container {\n",
              "      display:flex;\n",
              "      flex-wrap:wrap;\n",
              "      gap: 12px;\n",
              "    }\n",
              "\n",
              "    .colab-df-convert {\n",
              "      background-color: #E8F0FE;\n",
              "      border: none;\n",
              "      border-radius: 50%;\n",
              "      cursor: pointer;\n",
              "      display: none;\n",
              "      fill: #1967D2;\n",
              "      height: 32px;\n",
              "      padding: 0 0 0 0;\n",
              "      width: 32px;\n",
              "    }\n",
              "\n",
              "    .colab-df-convert:hover {\n",
              "      background-color: #E2EBFA;\n",
              "      box-shadow: 0px 1px 2px rgba(60, 64, 67, 0.3), 0px 1px 3px 1px rgba(60, 64, 67, 0.15);\n",
              "      fill: #174EA6;\n",
              "    }\n",
              "\n",
              "    [theme=dark] .colab-df-convert {\n",
              "      background-color: #3B4455;\n",
              "      fill: #D2E3FC;\n",
              "    }\n",
              "\n",
              "    [theme=dark] .colab-df-convert:hover {\n",
              "      background-color: #434B5C;\n",
              "      box-shadow: 0px 1px 3px 1px rgba(0, 0, 0, 0.15);\n",
              "      filter: drop-shadow(0px 1px 2px rgba(0, 0, 0, 0.3));\n",
              "      fill: #FFFFFF;\n",
              "    }\n",
              "  </style>\n",
              "\n",
              "      <script>\n",
              "        const buttonEl =\n",
              "          document.querySelector('#df-46ee0a44-956c-4e4b-bcdd-b5bcc88a0079 button.colab-df-convert');\n",
              "        buttonEl.style.display =\n",
              "          google.colab.kernel.accessAllowed ? 'block' : 'none';\n",
              "\n",
              "        async function convertToInteractive(key) {\n",
              "          const element = document.querySelector('#df-46ee0a44-956c-4e4b-bcdd-b5bcc88a0079');\n",
              "          const dataTable =\n",
              "            await google.colab.kernel.invokeFunction('convertToInteractive',\n",
              "                                                     [key], {});\n",
              "          if (!dataTable) return;\n",
              "\n",
              "          const docLinkHtml = 'Like what you see? Visit the ' +\n",
              "            '<a target=\"_blank\" href=https://colab.research.google.com/notebooks/data_table.ipynb>data table notebook</a>'\n",
              "            + ' to learn more about interactive tables.';\n",
              "          element.innerHTML = '';\n",
              "          dataTable['output_type'] = 'display_data';\n",
              "          await google.colab.output.renderOutput(dataTable, element);\n",
              "          const docLink = document.createElement('div');\n",
              "          docLink.innerHTML = docLinkHtml;\n",
              "          element.appendChild(docLink);\n",
              "        }\n",
              "      </script>\n",
              "    </div>\n",
              "  </div>\n",
              "  "
            ]
          },
          "metadata": {},
          "execution_count": 4
        }
      ],
      "source": [
        "#Summary statistics of the dataset.\n",
        "data.describe()"
      ]
    },
    {
      "cell_type": "markdown",
      "metadata": {
        "id": "8BgUTBFEHHlf"
      },
      "source": [
        "**RESETTING THE INDEX**\n",
        "\n",
        "Resetting the index of the dataframe object to default(0) to generate a new DataFrame or Series with the index. "
      ]
    },
    {
      "cell_type": "code",
      "execution_count": 5,
      "metadata": {
        "id": "gONWGkSfSjL8"
      },
      "outputs": [],
      "source": [
        "#Reset the index of close column.\n",
        "stock_data = data.reset_index()['Close']"
      ]
    },
    {
      "cell_type": "markdown",
      "metadata": {
        "id": "7uqoRJvcI3rq"
      },
      "source": [
        "**EXAMINING  THE SHAPE OF THE NEW DATAFRAME.**\n",
        "\n",
        "The shape is a tuple that gives dimensions of the array. It is an arrangement of the number of dimensions in the array. "
      ]
    },
    {
      "cell_type": "code",
      "execution_count": 6,
      "metadata": {
        "colab": {
          "base_uri": "https://localhost:8080/"
        },
        "id": "oCLfJILHIpW7",
        "outputId": "b825110a-ab4b-47d2-eef4-657029ed2a9b"
      },
      "outputs": [
        {
          "output_type": "execute_result",
          "data": {
            "text/plain": [
              "(2035,)"
            ]
          },
          "metadata": {},
          "execution_count": 6
        }
      ],
      "source": [
        "#Examine the shape of the new dataframe.\n",
        "stock_data.shape "
      ]
    },
    {
      "cell_type": "code",
      "execution_count": 36,
      "metadata": {
        "colab": {
          "base_uri": "https://localhost:8080/",
          "height": 282
        },
        "id": "6xxD8sDzKATy",
        "outputId": "d9abb268-a23e-4533-b8d3-74761d9bf0b8"
      },
      "outputs": [
        {
          "output_type": "execute_result",
          "data": {
            "text/plain": [
              "[<matplotlib.lines.Line2D at 0x7fb3d61467d0>]"
            ]
          },
          "metadata": {},
          "execution_count": 36
        },
        {
          "output_type": "display_data",
          "data": {
            "text/plain": [
              "<Figure size 432x288 with 1 Axes>"
            ],
            "image/png": "[encoded data removed]"
          },
          "metadata": {
            "needs_background": "light"
          }
        }
      ],
      "source": [
        "#A plot of the dataset \n",
        "plt.plot(stock_data)"
      ]
    },
    {
      "cell_type": "code",
      "execution_count": 8,
      "metadata": {
        "id": "wENuTsw1Kh3b"
      },
      "outputs": [],
      "source": [
        "#Preprocessing.\n",
        "from sklearn.preprocessing import MinMaxScaler\n",
        "scaler = MinMaxScaler(feature_range=(0,1))\n",
        "stock_data = scaler.fit_transform(np.array(stock_data).reshape(-1,1))"
      ]
    },
    {
      "cell_type": "code",
      "execution_count": 9,
      "metadata": {
        "colab": {
          "base_uri": "https://localhost:8080/"
        },
        "id": "pu0NHuWgKVYM",
        "outputId": "c1687f46-e02a-40c5-9a01-cc0f9d5a9401"
      },
      "outputs": [
        {
          "output_type": "stream",
          "name": "stdout",
          "text": [
            "[[0.62418301]\n",
            " [0.62214052]\n",
            " [0.62622549]\n",
            " ...\n",
            " [0.1621732 ]\n",
            " [0.16319444]\n",
            " [0.16584967]]\n"
          ]
        }
      ],
      "source": [
        "print(stock_data)"
      ]
    },
    {
      "cell_type": "markdown",
      "metadata": {
        "id": "dPNvzx6VMUqz"
      },
      "source": [
        "**SPLITTING THE DATASET**\n",
        "\n",
        "The dataset contains  Time Series data so the division is based on the date.\n",
        "Training data - 65%\n",
        "Test data - 35%"
      ]
    },
    {
      "cell_type": "code",
      "execution_count": 10,
      "metadata": {
        "id": "mPQ0hKrHL_Xt"
      },
      "outputs": [],
      "source": [
        "#Splitting the dataset into Training data and Test data.\n",
        "training_size = int(len(stock_data)*0.65)\n",
        "test_size = len(stock_data) - training_size\n",
        "train_data , test_data = stock_data[0:training_size,:],stock_data[training_size:len(stock_data),:1]"
      ]
    },
    {
      "cell_type": "code",
      "execution_count": 11,
      "metadata": {
        "colab": {
          "base_uri": "https://localhost:8080/"
        },
        "id": "baKFyjrhPPaC",
        "outputId": "161778c2-3914-47f2-a456-4cc83174f69a"
      },
      "outputs": [
        {
          "output_type": "stream",
          "name": "stdout",
          "text": [
            "1322 713\n"
          ]
        }
      ],
      "source": [
        "#The Training size and the Test size.\n",
        "print(training_size, test_size)"
      ]
    },
    {
      "cell_type": "code",
      "execution_count": 12,
      "metadata": {
        "id": "U63qM8RfNgO5"
      },
      "outputs": [],
      "source": [
        "#Converting the array into a dataset matrix.\n",
        "import numpy\n",
        "def create_dataset(dataset , time_step = 1):\n",
        "  dataX , dataY = [],[]\n",
        "  for i in range(len(dataset) - time_step-1):\n",
        "    a = dataset[i:(i+time_step) , 0]\n",
        "    dataX.append(a)\n",
        "    dataY.append(dataset[i + time_step,0])\n",
        "  return numpy.array(dataX) , numpy.array(dataY)\n"
      ]
    },
    {
      "cell_type": "code",
      "execution_count": 13,
      "metadata": {
        "id": "3EzZz711S0Bp"
      },
      "outputs": [],
      "source": [
        "#Reshaping : X=t , t+1 , t+2 , t+3 , Y =t+4\n",
        "time_step = 100\n",
        "X_train , y_train = create_dataset(train_data , time_step)\n",
        "X_test , ytest = create_dataset(test_data , time_step)"
      ]
    },
    {
      "cell_type": "code",
      "execution_count": 14,
      "metadata": {
        "colab": {
          "base_uri": "https://localhost:8080/"
        },
        "id": "iJy_5ZAESuYD",
        "outputId": "20bc2199-2747-4f6c-b830-a42e2b0a5c82"
      },
      "outputs": [
        {
          "output_type": "stream",
          "name": "stdout",
          "text": [
            "[[0.62418301 0.62214052 0.62622549 ... 0.83455882 0.86213235 0.85273693]\n",
            " [0.62214052 0.62622549 0.63378268 ... 0.86213235 0.85273693 0.87111928]\n",
            " [0.62622549 0.63378268 0.62234477 ... 0.85273693 0.87111928 0.84497549]\n",
            " ...\n",
            " [0.34517974 0.31781046 0.33047386 ... 0.2816585  0.27001634 0.26531863]\n",
            " [0.31781046 0.33047386 0.32128268 ... 0.27001634 0.26531863 0.27389706]\n",
            " [0.33047386 0.32128268 0.34007353 ... 0.26531863 0.27389706 0.25347222]]\n"
          ]
        }
      ],
      "source": [
        "print(X_train)"
      ]
    },
    {
      "cell_type": "code",
      "execution_count": 15,
      "metadata": {
        "colab": {
          "base_uri": "https://localhost:8080/"
        },
        "id": "pX0Ew9TrUNNO",
        "outputId": "f96f3e51-7b07-423b-d767-2d9476a81726"
      },
      "outputs": [
        {
          "output_type": "stream",
          "name": "stdout",
          "text": [
            "(1221, 100)\n",
            "(1221,)\n"
          ]
        }
      ],
      "source": [
        "print(X_train.shape)\n",
        "print(y_train.shape)"
      ]
    },
    {
      "cell_type": "code",
      "execution_count": 16,
      "metadata": {
        "colab": {
          "base_uri": "https://localhost:8080/"
        },
        "id": "P46g0PRgUYun",
        "outputId": "1ad2f7b0-aca7-4266-8388-869db0cf21e8"
      },
      "outputs": [
        {
          "output_type": "stream",
          "name": "stdout",
          "text": [
            "(612, 100)\n",
            "(612,)\n"
          ]
        }
      ],
      "source": [
        "print(X_test.shape)\n",
        "print(ytest.shape)"
      ]
    },
    {
      "cell_type": "markdown",
      "metadata": {
        "id": "DajlCFEZU2ds"
      },
      "source": [
        "**CREATING AN LSTM.**\n",
        "\n",
        "Long Short-Term Memory (LSTM) networks are a type of recurrent neural network capable of learning order dependence in sequence prediction problems."
      ]
    },
    {
      "cell_type": "code",
      "execution_count": 17,
      "metadata": {
        "id": "4vfLhu7rUp-N"
      },
      "outputs": [],
      "source": [
        "#Reshape the input into a 3D array required for LSTM.\n",
        "X_train = X_train.reshape(X_train.shape[0] , X_train.shape[1],1)\n",
        "X_test = X_test.reshape(X_test.shape[0] ,X_test.shape[1] , 1)"
      ]
    },
    {
      "cell_type": "code",
      "execution_count": 18,
      "metadata": {
        "id": "H8OX5ISnVjOP"
      },
      "outputs": [],
      "source": [
        "#Creating an LSTM Model.\n",
        "\n",
        "from tensorflow.keras.models import Sequential\n",
        "from tensorflow.keras.layers import Dense\n",
        "from tensorflow.keras.layers import LSTM"
      ]
    },
    {
      "cell_type": "markdown",
      "metadata": {
        "id": "tVTp7hg_Zmny"
      },
      "source": [
        "**LOSS FUNCTION.**\n",
        "\n",
        "A loss function is a function that compares the target and predicted output values; measures how well the neural network models the training data.\n",
        "\n",
        "TYPES.\n",
        "\n",
        "1.Regression Loss Function.\n",
        "\n",
        "2.Mean Squared Error - Measures how close a regression line is to a set of data points.\n",
        "\n",
        "3.Mean Squared Logarithmic Error Loss.\n",
        "\n",
        "4.Mean Absolute Error Loss.\n",
        "\n",
        "5.Binary Classification Loss Function.\n",
        "\n",
        "6.Binary Cross Entropy Loss.\n",
        "\n",
        "7.Hinge Loss.\n",
        "\n",
        "8.Multi-Class Classification Loss Function.\n"
      ]
    },
    {
      "cell_type": "code",
      "execution_count": 19,
      "metadata": {
        "id": "Ohb6e0nBW6MB"
      },
      "outputs": [],
      "source": [
        "#Loss function.\n",
        "model = Sequential()\n",
        "model.add(LSTM(50 ,return_sequences =True, input_shape = (100,1)))\n",
        "model.add(LSTM(50 ,return_sequences=True))\n",
        "model.add(LSTM(50))\n",
        "model.add(Dense(1))\n",
        "model.compile(loss = 'mean_squared_error' , optimizer = 'adam')"
      ]
    },
    {
      "cell_type": "code",
      "execution_count": 20,
      "metadata": {
        "colab": {
          "base_uri": "https://localhost:8080/"
        },
        "id": "0eSXkLYaW6Q6",
        "outputId": "0e0f5cd8-c6f2-4bc5-95e7-2b71e33a06af"
      },
      "outputs": [
        {
          "output_type": "stream",
          "name": "stdout",
          "text": [
            "Model: \"sequential\"\n",
            "_________________________________________________________________\n",
            " Layer (type)                Output Shape              Param #   \n",
            "=================================================================\n",
            " lstm (LSTM)                 (None, 100, 50)           10400     \n",
            "                                                                 \n",
            " lstm_1 (LSTM)               (None, 100, 50)           20200     \n",
            "                                                                 \n",
            " lstm_2 (LSTM)               (None, 50)                20200     \n",
            "                                                                 \n",
            " dense (Dense)               (None, 1)                 51        \n",
            "                                                                 \n",
            "=================================================================\n",
            "Total params: 50,851\n",
            "Trainable params: 50,851\n",
            "Non-trainable params: 0\n",
            "_________________________________________________________________\n"
          ]
        }
      ],
      "source": [
        "#The Model Summary\n",
        "model.summary()"
      ]
    },
    {
      "cell_type": "code",
      "execution_count": 21,
      "metadata": {
        "colab": {
          "base_uri": "https://localhost:8080/"
        },
        "id": "SMvKslJvanGM",
        "outputId": "d40fa958-8d9e-48f6-9847-c74553ce4325"
      },
      "outputs": [
        {
          "output_type": "stream",
          "name": "stdout",
          "text": [
            "Epoch 1/100\n",
            "20/20 [==============================] - 20s 483ms/step - loss: 0.0294 - val_loss: 0.0041\n",
            "Epoch 2/100\n",
            "20/20 [==============================] - 4s 191ms/step - loss: 0.0031 - val_loss: 0.0015\n",
            "Epoch 3/100\n",
            "20/20 [==============================] - 3s 172ms/step - loss: 0.0018 - val_loss: 9.6892e-04\n",
            "Epoch 4/100\n",
            "20/20 [==============================] - 4s 188ms/step - loss: 0.0016 - val_loss: 0.0011\n",
            "Epoch 5/100\n",
            "20/20 [==============================] - 4s 188ms/step - loss: 0.0017 - val_loss: 8.6539e-04\n",
            "Epoch 6/100\n",
            "20/20 [==============================] - 4s 187ms/step - loss: 0.0016 - val_loss: 0.0011\n",
            "Epoch 7/100\n",
            "20/20 [==============================] - 4s 183ms/step - loss: 0.0014 - val_loss: 9.1829e-04\n",
            "Epoch 8/100\n",
            "20/20 [==============================] - 4s 177ms/step - loss: 0.0014 - val_loss: 8.4630e-04\n",
            "Epoch 9/100\n",
            "20/20 [==============================] - 4s 179ms/step - loss: 0.0014 - val_loss: 7.7822e-04\n",
            "Epoch 10/100\n",
            "20/20 [==============================] - 4s 177ms/step - loss: 0.0012 - val_loss: 9.3654e-04\n",
            "Epoch 11/100\n",
            "20/20 [==============================] - 4s 189ms/step - loss: 0.0011 - val_loss: 9.3161e-04\n",
            "Epoch 12/100\n",
            "20/20 [==============================] - 4s 183ms/step - loss: 0.0011 - val_loss: 6.7827e-04\n",
            "Epoch 13/100\n",
            "20/20 [==============================] - 4s 184ms/step - loss: 0.0011 - val_loss: 6.8407e-04\n",
            "Epoch 14/100\n",
            "20/20 [==============================] - 4s 192ms/step - loss: 0.0013 - val_loss: 6.3963e-04\n",
            "Epoch 15/100\n",
            "20/20 [==============================] - 4s 189ms/step - loss: 0.0011 - val_loss: 8.6320e-04\n",
            "Epoch 16/100\n",
            "20/20 [==============================] - 4s 181ms/step - loss: 9.3239e-04 - val_loss: 0.0010\n",
            "Epoch 17/100\n",
            "20/20 [==============================] - 4s 186ms/step - loss: 0.0010 - val_loss: 0.0012\n",
            "Epoch 18/100\n",
            "20/20 [==============================] - 4s 189ms/step - loss: 0.0012 - val_loss: 0.0016\n",
            "Epoch 19/100\n",
            "20/20 [==============================] - 4s 185ms/step - loss: 0.0010 - val_loss: 8.0563e-04\n",
            "Epoch 20/100\n",
            "20/20 [==============================] - 3s 174ms/step - loss: 8.7078e-04 - val_loss: 8.9269e-04\n",
            "Epoch 21/100\n",
            "20/20 [==============================] - 5s 242ms/step - loss: 8.3175e-04 - val_loss: 8.7904e-04\n",
            "Epoch 22/100\n",
            "20/20 [==============================] - 4s 192ms/step - loss: 8.0738e-04 - val_loss: 6.7129e-04\n",
            "Epoch 23/100\n",
            "20/20 [==============================] - 4s 186ms/step - loss: 7.6046e-04 - val_loss: 7.6367e-04\n",
            "Epoch 24/100\n",
            "20/20 [==============================] - 4s 181ms/step - loss: 7.6817e-04 - val_loss: 6.0263e-04\n",
            "Epoch 25/100\n",
            "20/20 [==============================] - 4s 178ms/step - loss: 7.4023e-04 - val_loss: 7.9154e-04\n",
            "Epoch 26/100\n",
            "20/20 [==============================] - 4s 183ms/step - loss: 6.9203e-04 - val_loss: 6.9154e-04\n",
            "Epoch 27/100\n",
            "20/20 [==============================] - 4s 175ms/step - loss: 6.8793e-04 - val_loss: 5.8079e-04\n",
            "Epoch 28/100\n",
            "20/20 [==============================] - 4s 176ms/step - loss: 7.2605e-04 - val_loss: 7.7414e-04\n",
            "Epoch 29/100\n",
            "20/20 [==============================] - 4s 193ms/step - loss: 7.1530e-04 - val_loss: 7.4997e-04\n",
            "Epoch 30/100\n",
            "20/20 [==============================] - 4s 218ms/step - loss: 6.6430e-04 - val_loss: 7.7032e-04\n",
            "Epoch 31/100\n",
            "20/20 [==============================] - 4s 213ms/step - loss: 6.2891e-04 - val_loss: 5.8715e-04\n",
            "Epoch 32/100\n",
            "20/20 [==============================] - 4s 198ms/step - loss: 7.1961e-04 - val_loss: 6.4967e-04\n",
            "Epoch 33/100\n",
            "20/20 [==============================] - 4s 197ms/step - loss: 6.3502e-04 - val_loss: 6.3035e-04\n",
            "Epoch 34/100\n",
            "20/20 [==============================] - 4s 192ms/step - loss: 6.8238e-04 - val_loss: 6.4217e-04\n",
            "Epoch 35/100\n",
            "20/20 [==============================] - 3s 175ms/step - loss: 5.9424e-04 - val_loss: 6.5529e-04\n",
            "Epoch 36/100\n",
            "20/20 [==============================] - 4s 179ms/step - loss: 6.0934e-04 - val_loss: 6.6228e-04\n",
            "Epoch 37/100\n",
            "20/20 [==============================] - 4s 179ms/step - loss: 6.0316e-04 - val_loss: 5.2276e-04\n",
            "Epoch 38/100\n",
            "20/20 [==============================] - 4s 181ms/step - loss: 6.2197e-04 - val_loss: 5.0449e-04\n",
            "Epoch 39/100\n",
            "20/20 [==============================] - 5s 225ms/step - loss: 6.2945e-04 - val_loss: 7.0051e-04\n",
            "Epoch 40/100\n",
            "20/20 [==============================] - 4s 181ms/step - loss: 6.5244e-04 - val_loss: 5.2063e-04\n",
            "Epoch 41/100\n",
            "20/20 [==============================] - 4s 184ms/step - loss: 6.6943e-04 - val_loss: 6.7083e-04\n",
            "Epoch 42/100\n",
            "20/20 [==============================] - 4s 182ms/step - loss: 5.9325e-04 - val_loss: 4.8388e-04\n",
            "Epoch 43/100\n",
            "20/20 [==============================] - 4s 179ms/step - loss: 5.7124e-04 - val_loss: 6.8600e-04\n",
            "Epoch 44/100\n",
            "20/20 [==============================] - 4s 186ms/step - loss: 7.1372e-04 - val_loss: 6.0581e-04\n",
            "Epoch 45/100\n",
            "20/20 [==============================] - 4s 191ms/step - loss: 7.4502e-04 - val_loss: 6.1501e-04\n",
            "Epoch 46/100\n",
            "20/20 [==============================] - 4s 195ms/step - loss: 5.1891e-04 - val_loss: 5.3727e-04\n",
            "Epoch 47/100\n",
            "20/20 [==============================] - 4s 195ms/step - loss: 5.0827e-04 - val_loss: 5.3640e-04\n",
            "Epoch 48/100\n",
            "20/20 [==============================] - 4s 191ms/step - loss: 5.0175e-04 - val_loss: 9.5442e-04\n",
            "Epoch 49/100\n",
            "20/20 [==============================] - 4s 195ms/step - loss: 7.0610e-04 - val_loss: 6.6762e-04\n",
            "Epoch 50/100\n",
            "20/20 [==============================] - 4s 199ms/step - loss: 5.0809e-04 - val_loss: 6.1874e-04\n",
            "Epoch 51/100\n",
            "20/20 [==============================] - 4s 185ms/step - loss: 5.5166e-04 - val_loss: 4.2735e-04\n",
            "Epoch 52/100\n",
            "20/20 [==============================] - 4s 180ms/step - loss: 4.9863e-04 - val_loss: 5.7383e-04\n",
            "Epoch 53/100\n",
            "20/20 [==============================] - 4s 179ms/step - loss: 4.9366e-04 - val_loss: 4.4051e-04\n",
            "Epoch 54/100\n",
            "20/20 [==============================] - 3s 168ms/step - loss: 4.6620e-04 - val_loss: 4.2681e-04\n",
            "Epoch 55/100\n",
            "20/20 [==============================] - 4s 185ms/step - loss: 5.3300e-04 - val_loss: 5.3674e-04\n",
            "Epoch 56/100\n",
            "20/20 [==============================] - 4s 177ms/step - loss: 4.7227e-04 - val_loss: 3.8635e-04\n",
            "Epoch 57/100\n",
            "20/20 [==============================] - 3s 174ms/step - loss: 5.2830e-04 - val_loss: 5.8551e-04\n",
            "Epoch 58/100\n",
            "20/20 [==============================] - 3s 173ms/step - loss: 4.7870e-04 - val_loss: 4.1134e-04\n",
            "Epoch 59/100\n",
            "20/20 [==============================] - 3s 170ms/step - loss: 4.4897e-04 - val_loss: 5.7719e-04\n",
            "Epoch 60/100\n",
            "20/20 [==============================] - 3s 174ms/step - loss: 4.9633e-04 - val_loss: 4.2463e-04\n",
            "Epoch 61/100\n",
            "20/20 [==============================] - 4s 185ms/step - loss: 4.4953e-04 - val_loss: 5.4383e-04\n",
            "Epoch 62/100\n",
            "20/20 [==============================] - 3s 174ms/step - loss: 4.4221e-04 - val_loss: 4.5494e-04\n",
            "Epoch 63/100\n",
            "20/20 [==============================] - 3s 170ms/step - loss: 4.4051e-04 - val_loss: 4.9525e-04\n",
            "Epoch 64/100\n",
            "20/20 [==============================] - 3s 175ms/step - loss: 5.7909e-04 - val_loss: 5.7360e-04\n",
            "Epoch 65/100\n",
            "20/20 [==============================] - 3s 172ms/step - loss: 4.2654e-04 - val_loss: 6.6209e-04\n",
            "Epoch 66/100\n",
            "20/20 [==============================] - 4s 187ms/step - loss: 4.1728e-04 - val_loss: 5.9495e-04\n",
            "Epoch 67/100\n",
            "20/20 [==============================] - 4s 181ms/step - loss: 6.8419e-04 - val_loss: 4.2889e-04\n",
            "Epoch 68/100\n",
            "20/20 [==============================] - 4s 176ms/step - loss: 3.9204e-04 - val_loss: 3.3527e-04\n",
            "Epoch 69/100\n",
            "20/20 [==============================] - 4s 176ms/step - loss: 4.5555e-04 - val_loss: 7.0142e-04\n",
            "Epoch 70/100\n",
            "20/20 [==============================] - 4s 176ms/step - loss: 4.1823e-04 - val_loss: 3.3941e-04\n",
            "Epoch 71/100\n",
            "20/20 [==============================] - 3s 170ms/step - loss: 3.8694e-04 - val_loss: 3.9519e-04\n",
            "Epoch 72/100\n",
            "20/20 [==============================] - 4s 178ms/step - loss: 3.5313e-04 - val_loss: 3.3408e-04\n",
            "Epoch 73/100\n",
            "20/20 [==============================] - 4s 181ms/step - loss: 3.6336e-04 - val_loss: 2.9355e-04\n",
            "Epoch 74/100\n",
            "20/20 [==============================] - 3s 174ms/step - loss: 3.6186e-04 - val_loss: 3.5421e-04\n",
            "Epoch 75/100\n",
            "20/20 [==============================] - 3s 173ms/step - loss: 3.4321e-04 - val_loss: 3.2998e-04\n",
            "Epoch 76/100\n",
            "20/20 [==============================] - 4s 190ms/step - loss: 3.4046e-04 - val_loss: 3.3374e-04\n",
            "Epoch 77/100\n",
            "20/20 [==============================] - 4s 206ms/step - loss: 3.2691e-04 - val_loss: 3.8414e-04\n",
            "Epoch 78/100\n",
            "20/20 [==============================] - 3s 173ms/step - loss: 3.3252e-04 - val_loss: 3.0806e-04\n",
            "Epoch 79/100\n",
            "20/20 [==============================] - 3s 173ms/step - loss: 3.4185e-04 - val_loss: 3.1229e-04\n",
            "Epoch 80/100\n",
            "20/20 [==============================] - 4s 179ms/step - loss: 3.3813e-04 - val_loss: 3.9164e-04\n",
            "Epoch 81/100\n",
            "20/20 [==============================] - 3s 168ms/step - loss: 3.9009e-04 - val_loss: 2.9169e-04\n",
            "Epoch 82/100\n",
            "20/20 [==============================] - 3s 168ms/step - loss: 3.5930e-04 - val_loss: 4.6146e-04\n",
            "Epoch 83/100\n",
            "20/20 [==============================] - 3s 170ms/step - loss: 3.1958e-04 - val_loss: 3.3076e-04\n",
            "Epoch 84/100\n",
            "20/20 [==============================] - 3s 169ms/step - loss: 2.9399e-04 - val_loss: 3.2793e-04\n",
            "Epoch 85/100\n",
            "20/20 [==============================] - 3s 165ms/step - loss: 2.9941e-04 - val_loss: 2.7190e-04\n",
            "Epoch 86/100\n",
            "20/20 [==============================] - 4s 215ms/step - loss: 2.8670e-04 - val_loss: 2.4667e-04\n",
            "Epoch 87/100\n",
            "20/20 [==============================] - 3s 164ms/step - loss: 2.9090e-04 - val_loss: 2.4924e-04\n",
            "Epoch 88/100\n",
            "20/20 [==============================] - 3s 168ms/step - loss: 2.8966e-04 - val_loss: 2.6762e-04\n",
            "Epoch 89/100\n",
            "20/20 [==============================] - 3s 164ms/step - loss: 3.0871e-04 - val_loss: 2.4860e-04\n",
            "Epoch 90/100\n",
            "20/20 [==============================] - 3s 169ms/step - loss: 4.3275e-04 - val_loss: 3.0190e-04\n",
            "Epoch 91/100\n",
            "20/20 [==============================] - 3s 174ms/step - loss: 3.0790e-04 - val_loss: 2.3803e-04\n",
            "Epoch 92/100\n",
            "20/20 [==============================] - 4s 179ms/step - loss: 3.6433e-04 - val_loss: 3.2774e-04\n",
            "Epoch 93/100\n",
            "20/20 [==============================] - 4s 178ms/step - loss: 3.2111e-04 - val_loss: 2.9193e-04\n",
            "Epoch 94/100\n",
            "20/20 [==============================] - 4s 179ms/step - loss: 3.4372e-04 - val_loss: 2.3740e-04\n",
            "Epoch 95/100\n",
            "20/20 [==============================] - 4s 180ms/step - loss: 2.9550e-04 - val_loss: 4.0745e-04\n",
            "Epoch 96/100\n",
            "20/20 [==============================] - 4s 186ms/step - loss: 2.7475e-04 - val_loss: 2.3935e-04\n",
            "Epoch 97/100\n",
            "20/20 [==============================] - 4s 183ms/step - loss: 4.3002e-04 - val_loss: 3.2284e-04\n",
            "Epoch 98/100\n",
            "20/20 [==============================] - 4s 180ms/step - loss: 2.7062e-04 - val_loss: 2.3102e-04\n",
            "Epoch 99/100\n",
            "20/20 [==============================] - 4s 180ms/step - loss: 2.6744e-04 - val_loss: 2.3757e-04\n",
            "Epoch 100/100\n",
            "20/20 [==============================] - 4s 180ms/step - loss: 2.5943e-04 - val_loss: 2.6127e-04\n"
          ]
        },
        {
          "output_type": "execute_result",
          "data": {
            "text/plain": [
              "<keras.callbacks.History at 0x7fb3dbf94350>"
            ]
          },
          "metadata": {},
          "execution_count": 21
        }
      ],
      "source": [
        "model.fit(X_train,y_train ,validation_data=(X_test,ytest) , epochs=100 ,batch_size=64 , verbose =1)"
      ]
    },
    {
      "cell_type": "code",
      "execution_count": 22,
      "metadata": {
        "id": "8PvjJPeplzT6"
      },
      "outputs": [],
      "source": [
        "#Prediction and performance metric.\n",
        "train_predict = model.predict(X_train)\n",
        "test_predict = model.predict(X_test)"
      ]
    },
    {
      "cell_type": "code",
      "execution_count": 23,
      "metadata": {
        "id": "FdVUfZe0m1uI"
      },
      "outputs": [],
      "source": [
        "#Transforming to original form\n",
        "train_predict = scaler.inverse_transform(train_predict)\n",
        "test_predict = scaler.inverse_transform(test_predict)"
      ]
    },
    {
      "cell_type": "code",
      "execution_count": 24,
      "metadata": {
        "colab": {
          "base_uri": "https://localhost:8080/"
        },
        "id": "fQjCqKKSm1hW",
        "outputId": "70766296-c578-4c2d-81bb-324b29234900"
      },
      "outputs": [
        {
          "output_type": "execute_result",
          "data": {
            "text/plain": [
              "167.67603183891566"
            ]
          },
          "metadata": {},
          "execution_count": 24
        }
      ],
      "source": [
        "#Calculating RMSE performance metric.\n",
        "from sklearn.metrics import mean_squared_error\n",
        "math.sqrt(mean_squared_error(y_train ,train_predict))"
      ]
    },
    {
      "cell_type": "code",
      "execution_count": 25,
      "metadata": {
        "colab": {
          "base_uri": "https://localhost:8080/"
        },
        "id": "x1fLICQ2qILJ",
        "outputId": "43e991c0-01b2-489d-d4cc-b0754f91f9b6"
      },
      "outputs": [
        {
          "output_type": "execute_result",
          "data": {
            "text/plain": [
              "116.59896851665096"
            ]
          },
          "metadata": {},
          "execution_count": 25
        }
      ],
      "source": [
        "#Test Data RMSE\n",
        "math.sqrt(mean_squared_error(ytest ,test_predict))"
      ]
    },
    {
      "cell_type": "code",
      "execution_count": 26,
      "metadata": {
        "colab": {
          "base_uri": "https://localhost:8080/",
          "height": 265
        },
        "id": "Y9Nu2vX4qIfY",
        "outputId": "139c91d4-0896-4b20-a921-116196a621cd"
      },
      "outputs": [
        {
          "output_type": "display_data",
          "data": {
            "text/plain": [
              "<Figure size 432x288 with 1 Axes>"
            ],
            "image/png": "[encoded data removed]"
          },
          "metadata": {
            "needs_background": "light"
          }
        }
      ],
      "source": [
        "#Plotting \n",
        "#shift train prediction for plotting.\n",
        "look_back =100\n",
        "trainPredictionPlot = numpy.empty_like(stock_data)\n",
        "trainPredictionPlot[:,:] = np.nan\n",
        "trainPredictionPlot[look_back: len(train_predict)+look_back ,:] = train_predict\n",
        "\n",
        "#Shift test predictions for plotting\n",
        "testPredictPlot= numpy.empty_like(stock_data)\n",
        "testPredictPlot[:,:] = numpy.nan\n",
        "testPredictPlot[len(train_predict)+(look_back*2)+1:len(stock_data)-1,:] = test_predict\n",
        "\n",
        "#Plotting baseline and Predictions.\n",
        "plt.plot(scaler.inverse_transform(stock_data))\n",
        "plt.plot(trainPredictionPlot)\n",
        "plt.plot(testPredictPlot)\n",
        "plt.show()\n",
        "\n",
        "\n"
      ]
    },
    {
      "cell_type": "markdown",
      "metadata": {
        "id": "rgAhHmBPuck8"
      },
      "source": [
        "**PREDICTING THE FUTURE.**"
      ]
    },
    {
      "cell_type": "code",
      "execution_count": 27,
      "metadata": {
        "colab": {
          "base_uri": "https://localhost:8080/"
        },
        "id": "C4Ho8gvqttzP",
        "outputId": "69680ecb-3631-4376-938e-5421480c35dc"
      },
      "outputs": [
        {
          "output_type": "execute_result",
          "data": {
            "text/plain": [
              "(1, 372)"
            ]
          },
          "metadata": {},
          "execution_count": 27
        }
      ],
      "source": [
        "x_input = test_data[341:].reshape(1,-1)\n",
        "x_input.shape\n"
      ]
    },
    {
      "cell_type": "code",
      "execution_count": 28,
      "metadata": {
        "id": "InvgEV2AuzuC"
      },
      "outputs": [],
      "source": [
        "#Converting into a list\n",
        "temp_input = list(x_input)"
      ]
    },
    {
      "cell_type": "code",
      "execution_count": 29,
      "metadata": {
        "colab": {
          "base_uri": "https://localhost:8080/",
          "height": 235
        },
        "id": "ry3o2sowuz54",
        "outputId": "7d8ea8af-498f-45b1-a8bb-c65e0351af9c"
      },
      "outputs": [
        {
          "output_type": "error",
          "ename": "ValueError",
          "evalue": "ignored",
          "traceback": [
            "\u001b[0;31m---------------------------------------------------------------------------\u001b[0m",
            "\u001b[0;31mValueError\u001b[0m                                Traceback (most recent call last)",
            "\u001b[0;32m<ipython-input-29-d790f4d1e046>\u001b[0m in \u001b[0;36m<module>\u001b[0;34m\u001b[0m\n\u001b[1;32m     21\u001b[0m     \u001b[0mi\u001b[0m\u001b[0;34m=\u001b[0m\u001b[0mi\u001b[0m\u001b[0;34m+\u001b[0m\u001b[0;36m1\u001b[0m\u001b[0;34m\u001b[0m\u001b[0;34m\u001b[0m\u001b[0m\n\u001b[1;32m     22\u001b[0m   \u001b[0;32melse\u001b[0m\u001b[0;34m:\u001b[0m\u001b[0;34m\u001b[0m\u001b[0;34m\u001b[0m\u001b[0m\n\u001b[0;32m---> 23\u001b[0;31m     \u001b[0mx_input\u001b[0m \u001b[0;34m=\u001b[0m \u001b[0mx_input\u001b[0m\u001b[0;34m.\u001b[0m\u001b[0mreshape\u001b[0m\u001b[0;34m(\u001b[0m\u001b[0;34m(\u001b[0m\u001b[0;36m1\u001b[0m\u001b[0;34m,\u001b[0m\u001b[0mn_steps\u001b[0m\u001b[0;34m,\u001b[0m\u001b[0;36m1\u001b[0m\u001b[0;34m)\u001b[0m\u001b[0;34m)\u001b[0m\u001b[0;34m\u001b[0m\u001b[0;34m\u001b[0m\u001b[0m\n\u001b[0m\u001b[1;32m     24\u001b[0m     \u001b[0myhat\u001b[0m \u001b[0;34m=\u001b[0m \u001b[0mmodel\u001b[0m\u001b[0;34m.\u001b[0m\u001b[0mpredict\u001b[0m\u001b[0;34m(\u001b[0m\u001b[0mx_input\u001b[0m \u001b[0;34m,\u001b[0m \u001b[0mverbose\u001b[0m \u001b[0;34m=\u001b[0m \u001b[0;36m0\u001b[0m\u001b[0;34m)\u001b[0m\u001b[0;34m\u001b[0m\u001b[0;34m\u001b[0m\u001b[0m\n\u001b[1;32m     25\u001b[0m     \u001b[0mprint\u001b[0m\u001b[0;34m(\u001b[0m\u001b[0myhat\u001b[0m\u001b[0;34m[\u001b[0m\u001b[0;36m0\u001b[0m\u001b[0;34m]\u001b[0m\u001b[0;34m)\u001b[0m\u001b[0;34m\u001b[0m\u001b[0;34m\u001b[0m\u001b[0m\n",
            "\u001b[0;31mValueError\u001b[0m: cannot reshape array of size 372 into shape (1,100,1)"
          ]
        }
      ],
      "source": [
        "#Prediction for the next 30 Days.\n",
        "from numpy import array\n",
        "\n",
        "lst_output = []\n",
        "n_steps = 100\n",
        "i =0 \n",
        "while i <30:\n",
        "  if(len(temp_input)>100):\n",
        "    #Print temp_input\n",
        "    x_input = np.array(temp_input[1:])\n",
        "    print(\"{} day input {}\".format(i,x_input))\n",
        "    x_input = x_input.reshape(1,-1)\n",
        "    x_input = x_input.reshape((1,n_steps,1))\n",
        "    #print x_input\n",
        "    yhat = model.predict(x_input ,verbose = 0)\n",
        "    print(\"{} day output {}\".format(i,yhat))\n",
        "    temp_input.extend(yhat[0].tolist())\n",
        "    temp_input =temp_input[1:]\n",
        "    #Print temp_input\n",
        "    lst_output.extend(yhat.tolist())\n",
        "    i=i+1\n",
        "  else:\n",
        "    x_input = x_input.reshape((1,n_steps,1))\n",
        "    yhat = model.predict(x_input , verbose = 0)\n",
        "    print(yhat[0])\n",
        "    temp_input.extend(yhat[0].tolist())\n",
        "    print(len(temp_input))\n",
        "    lst_output.extend(yhat.tolist())\n",
        "    i=i+1\n",
        "\n",
        "print(lst_output)"
      ]
    },
    {
      "cell_type": "code",
      "execution_count": 30,
      "metadata": {
        "id": "OglTM63PzfGC"
      },
      "outputs": [],
      "source": [
        "new_day = np.arange(1,101)\n",
        "pred_day = np.arange(101 , 131)"
      ]
    },
    {
      "cell_type": "code",
      "execution_count": null,
      "metadata": {
        "id": "wXJ7cNYX1qqC"
      },
      "outputs": [],
      "source": [
        "len(stock_data)"
      ]
    },
    {
      "cell_type": "code",
      "execution_count": 32,
      "metadata": {
        "colab": {
          "base_uri": "https://localhost:8080/"
        },
        "id": "2U0SF_7G2rN6",
        "outputId": "2a1be6d2-ed84-4a41-9170-3d6ba914be0c"
      },
      "outputs": [
        {
          "output_type": "execute_result",
          "data": {
            "text/plain": [
              "array([[0.62418301, 0.62214052, 0.62622549, ..., 0.1621732 , 0.16319444,\n",
              "        0.16584967]])"
            ]
          },
          "metadata": {},
          "execution_count": 32
        }
      ],
      "source": [
        "stock_data.reshape(1,-1)"
      ]
    },
    {
      "cell_type": "code",
      "execution_count": 33,
      "metadata": {
        "id": "RxRvey3a1whP"
      },
      "outputs": [],
      "source": [
        "stock_data_one = stock_data.reshape(1,-1).tolist()\n",
        "stock_data_one.extend(lst_output)"
      ]
    },
    {
      "cell_type": "code",
      "execution_count": 34,
      "metadata": {
        "colab": {
          "base_uri": "https://localhost:8080/",
          "height": 282
        },
        "id": "mdHPSPOE3O2F",
        "outputId": "8494ab20-8049-452d-e691-c19d6c4d8fde"
      },
      "outputs": [
        {
          "output_type": "execute_result",
          "data": {
            "text/plain": [
              "[<matplotlib.lines.Line2D at 0x7fb3dba68290>]"
            ]
          },
          "metadata": {},
          "execution_count": 34
        },
        {
          "output_type": "display_data",
          "data": {
            "text/plain": [
              "<Figure size 432x288 with 1 Axes>"
            ],
            "image/png": "[encoded data removed]"
          },
          "metadata": {
            "needs_background": "light"
          }
        }
      ],
      "source": [
        "#Complete output\n",
        "stock_data_one = stock_data.tolist()\n",
        "stock_data_one.extend(lst_output)\n",
        "plt.plot(stock_data_one[1000:])"
      ]
    }
  ],
  "metadata": {
    "colab": {
      "collapsed_sections": [],
      "name": "Stock_Market_Prediction_and_Forecasting_using_StackedLSTM.ipynb",
      "provenance": [],
      "authorship_tag": "ABX9TyPPw0i6mbi9v4VaLDXz4V4d",
      "include_colab_link": true
    },
    "kernelspec": {
      "display_name": "Python 3",
      "name": "python3"
    },
    "language_info": {
      "name": "python"
    }
  },
  "nbformat": 4,
  "nbformat_minor": 0
}